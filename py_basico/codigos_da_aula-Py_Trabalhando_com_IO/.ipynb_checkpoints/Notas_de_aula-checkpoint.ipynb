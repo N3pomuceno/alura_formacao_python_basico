{
 "cells": [
  {
   "cell_type": "markdown",
   "id": "83185074",
   "metadata": {},
   "source": [
    "## Aula 3: Boas práticas com ficheiros\n",
    "\n",
    "Quando retratando de abertura e fechamento de arquivos, se estamos lidando com um código que pode ter um error e gerar uma exceção no meio do programa, o que garante o que o arquivo aberto será fechado corretamente?\n",
    "Imagine a situação de abrir um arquivo _a_ e no meio do código tem alguma divisão por zero que faça a exceção de **ZeroDivisionError**, o que garante que o _a_ será fechado?\n",
    "\n",
    "\n",
    "Um forma interessante de lidar com isso é quando estamos utilizando junto da abertura do arquivo um try com finally:\n"
   ]
  },
  {
   "cell_type": "code",
   "execution_count": null,
   "id": "ae942921",
   "metadata": {},
   "outputs": [],
   "source": [
    "try:\n",
    "    arquivo = open(\"teste_arquivo.csv\") # Se não definir como abrir o arquivo, o padrão é no modo de leitura.\n",
    "    \n",
    "    # Algo que possivelmente gerará um error.\n",
    "    for linha in arquivo:\n",
    "        print(linha)\n",
    "        x = 1/0 # Error de ZeroDivision\n",
    "finally:\n",
    "    arquivo.close()"
   ]
  },
  {
   "cell_type": "markdown",
   "id": "e6b1b43a",
   "metadata": {},
   "source": [
    "Fechar o arquivo é importante para liberar o recurso que estamos utilizando pela aplicação.\n",
    "\n",
    "Agora vamos ver algumas exceções comuns quando trabalhando com arquivos:\n",
    "Imagine o caso em que estamos abrindo um arquivo que não existe. No modo de escrita(writable) e no modo de de escrita no final do arquivo (appending), esse arquivo seria criado, mas para o modo de escrita que é considerado o padrão geraria um error!\n",
    "\n",
    "Quando rodando um arquivo com esse formato, gerará duas exceções: FileNotFoundError, pq o arquivo não foi encontrado, e de NameError, pois a variável não foi definida por causa da outra exceção.\n",
    "\n",
    "Uma forma de lidar com isso é deixando explícito a exceção:"
   ]
  },
  {
   "cell_type": "code",
   "execution_count": null,
   "id": "518dcdd0",
   "metadata": {},
   "outputs": [],
   "source": [
    "try:\n",
    "    arquivo = open(\"arquivo_que_nao_existe.csv\") # Se não definir como abrir o arquivo, o padrão é no modo de leitura.\n",
    "    \n",
    "    for linha in arquivo:\n",
    "        print(linha)\n",
    "        \n",
    "except FileNotFoundError:\n",
    "    print(\"Arquivo não encontrado!\")\n",
    "    \n",
    "    #Professor dá mais um exemplo de exceção quando negamos a permissão de criação de arquivos para escrita com Mac  e Linux\n",
    "except PermissionError:\n",
    "    print(\"Sem permissão de escrita!\")\n",
    "    \n",
    "finally:\n",
    "    arquivo.close()"
   ]
  },
  {
   "cell_type": "markdown",
   "id": "5ec529ba",
   "metadata": {},
   "source": [
    "Dessa forma quando vendo que o arquivo não existe, cairá dentro da exceção, mas porque estamos fechando com o finally depois, a variável arquivo que não teve nada recebido não tinha sido definida para entrar nesse finally gerará uma exceção de NameError, pela falta da definição da variável causada pela exceção.\n",
    "\n",
    "Lembrando que isso acontece somente para o caso do modo de leitura, pois como foi falado anteriormente, se estamos no modo de escrita (w ou a) o arquivo só seria criado e depois fechado!"
   ]
  },
  {
   "cell_type": "markdown",
   "id": "3ef8794e",
   "metadata": {},
   "source": [
    "## Utilizando a identação com with\n",
    "\n",
    "Outra forma de escrever isso é com o with, que pode ser usado para qualquer coisa que precisa abrir e fechar depois."
   ]
  },
  {
   "cell_type": "code",
   "execution_count": null,
   "id": "7ee835c3",
   "metadata": {},
   "outputs": [],
   "source": [
    "with open(\"arquivo_teste.csv\", \"w\") as f:\n",
    "    f.write(\"fuck!\")"
   ]
  },
  {
   "cell_type": "markdown",
   "id": "ce9d80d6",
   "metadata": {},
   "source": [
    "Com o with junto do try, não precisaríamos utilizar do finally, e se rodar um arquivo inexistente no modo de leitura, só gerará a exceção de filenotfound pois a variável arquivo aparentemente passa reto com o with."
   ]
  },
  {
   "cell_type": "code",
   "execution_count": null,
   "id": "c3060a52",
   "metadata": {},
   "outputs": [],
   "source": [
    "try:\n",
    "    with open(\"arquivo_que_nao_existe.csv\")as arquivo:\n",
    "        for linha in arquivo:\n",
    "            print(linha)\n",
    "        \n",
    "except FileNotFoundError:\n",
    "    print(\"Arquivo não encontrado!\")\n",
    "    \n",
    "    #Professor dá mais um exemplo de exceção quando negamos a permissão de criação de arquivos para escrita com Mac  e Linux\n",
    "except PermissionError:\n",
    "    print(\"Sem permissão de escrita!\")\n"
   ]
  },
  {
   "cell_type": "markdown",
   "id": "855ac5d1",
   "metadata": {},
   "source": []
  }
 ],
 "metadata": {
  "kernelspec": {
   "display_name": "Python 3 (ipykernel)",
   "language": "python",
   "name": "python3"
  },
  "language_info": {
   "codemirror_mode": {
    "name": "ipython",
    "version": 3
   },
   "file_extension": ".py",
   "mimetype": "text/x-python",
   "name": "python",
   "nbconvert_exporter": "python",
   "pygments_lexer": "ipython3",
   "version": "3.8.10"
  }
 },
 "nbformat": 4,
 "nbformat_minor": 5
}
