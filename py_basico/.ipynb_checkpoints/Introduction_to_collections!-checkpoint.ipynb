{
 "cells": [
  {
   "cell_type": "code",
   "execution_count": 1,
   "id": "ed5a6b7b",
   "metadata": {},
   "outputs": [
    {
     "name": "stdout",
     "output_type": "stream",
     "text": [
      "39\n",
      "30\n",
      "27\n",
      "18\n"
     ]
    }
   ],
   "source": [
    "idade1 = 39\n",
    "idade2 = 30\n",
    "idade3 = 27\n",
    "idade4 = 18\n",
    "\n",
    "print(idade1)\n",
    "print(idade2)\n",
    "print(idade3)\n",
    "print(idade4)\n"
   ]
  },
  {
   "cell_type": "code",
   "execution_count": 2,
   "id": "8f9beb7c",
   "metadata": {},
   "outputs": [],
   "source": [
    "idades = [39, 30, 27, 18]"
   ]
  },
  {
   "cell_type": "code",
   "execution_count": 3,
   "id": "d2f6b843",
   "metadata": {},
   "outputs": [
    {
     "data": {
      "text/plain": [
       "list"
      ]
     },
     "execution_count": 3,
     "metadata": {},
     "output_type": "execute_result"
    }
   ],
   "source": [
    "type(idades)"
   ]
  },
  {
   "cell_type": "code",
   "execution_count": 4,
   "id": "1463b747",
   "metadata": {},
   "outputs": [
    {
     "data": {
      "text/plain": [
       "39"
      ]
     },
     "execution_count": 4,
     "metadata": {},
     "output_type": "execute_result"
    }
   ],
   "source": [
    "idades[0]"
   ]
  },
  {
   "cell_type": "code",
   "execution_count": 5,
   "id": "8a1f2ab7",
   "metadata": {},
   "outputs": [
    {
     "data": {
      "text/plain": [
       "[39, 30, 27, 18]"
      ]
     },
     "execution_count": 5,
     "metadata": {},
     "output_type": "execute_result"
    }
   ],
   "source": [
    "idades"
   ]
  },
  {
   "cell_type": "code",
   "execution_count": 6,
   "id": "65147d98",
   "metadata": {},
   "outputs": [
    {
     "name": "stdout",
     "output_type": "stream",
     "text": [
      "39\n",
      "30\n",
      "27\n"
     ]
    }
   ],
   "source": [
    "print(idades[0])\n",
    "print(idades[1])\n",
    "print(idades[2])"
   ]
  },
  {
   "cell_type": "code",
   "execution_count": 7,
   "id": "183cfc2e",
   "metadata": {},
   "outputs": [],
   "source": [
    "idades.append(15)"
   ]
  },
  {
   "cell_type": "code",
   "execution_count": 8,
   "id": "14cffae9",
   "metadata": {},
   "outputs": [
    {
     "data": {
      "text/plain": [
       "[39, 30, 27, 18, 15]"
      ]
     },
     "execution_count": 8,
     "metadata": {},
     "output_type": "execute_result"
    }
   ],
   "source": [
    "idades"
   ]
  },
  {
   "cell_type": "code",
   "execution_count": 9,
   "id": "6c194528",
   "metadata": {},
   "outputs": [
    {
     "name": "stdout",
     "output_type": "stream",
     "text": [
      "39\n",
      "30\n",
      "27\n",
      "18\n",
      "15\n"
     ]
    }
   ],
   "source": [
    "for idade in idades:\n",
    "    print(idade)"
   ]
  },
  {
   "cell_type": "code",
   "execution_count": 10,
   "id": "696bb5e9",
   "metadata": {},
   "outputs": [
    {
     "data": {
      "text/plain": [
       "[30, 27, 18, 15]"
      ]
     },
     "execution_count": 10,
     "metadata": {},
     "output_type": "execute_result"
    }
   ],
   "source": [
    "idades.remove(39) # remove a primeira aparição do elemento.\n",
    "idades"
   ]
  },
  {
   "cell_type": "code",
   "execution_count": 11,
   "id": "4768d51e",
   "metadata": {},
   "outputs": [
    {
     "data": {
      "text/plain": [
       "[30, 18, 15, 27]"
      ]
     },
     "execution_count": 11,
     "metadata": {},
     "output_type": "execute_result"
    }
   ],
   "source": [
    "idades.append(27)\n",
    "idades.remove(27)\n",
    "idades"
   ]
  },
  {
   "cell_type": "code",
   "execution_count": 12,
   "id": "387a62d2",
   "metadata": {},
   "outputs": [
    {
     "data": {
      "text/plain": [
       "False"
      ]
     },
     "execution_count": 12,
     "metadata": {},
     "output_type": "execute_result"
    }
   ],
   "source": [
    "28 in idades"
   ]
  },
  {
   "cell_type": "code",
   "execution_count": 13,
   "id": "6d68b831",
   "metadata": {},
   "outputs": [
    {
     "data": {
      "text/plain": [
       "True"
      ]
     },
     "execution_count": 13,
     "metadata": {},
     "output_type": "execute_result"
    }
   ],
   "source": [
    "15 in idades"
   ]
  },
  {
   "cell_type": "code",
   "execution_count": 14,
   "id": "900b771f",
   "metadata": {},
   "outputs": [
    {
     "data": {
      "text/plain": [
       "[30, 18, 27]"
      ]
     },
     "execution_count": 14,
     "metadata": {},
     "output_type": "execute_result"
    }
   ],
   "source": [
    "if 15 in idades:\n",
    "    idades.remove(15)\n",
    "idades"
   ]
  },
  {
   "cell_type": "code",
   "execution_count": 15,
   "id": "032686dc",
   "metadata": {},
   "outputs": [
    {
     "data": {
      "text/plain": [
       "[20, 30, 18, 27]"
      ]
     },
     "execution_count": 15,
     "metadata": {},
     "output_type": "execute_result"
    }
   ],
   "source": [
    "idades.insert(0,20)\n",
    "idades"
   ]
  },
  {
   "cell_type": "code",
   "execution_count": 16,
   "id": "85c02a22",
   "metadata": {},
   "outputs": [
    {
     "data": {
      "text/plain": [
       "[20, 30, 18, 27, [27, 19]]"
      ]
     },
     "execution_count": 16,
     "metadata": {},
     "output_type": "execute_result"
    }
   ],
   "source": [
    "idades.append([27, 19])\n",
    "idades"
   ]
  },
  {
   "cell_type": "code",
   "execution_count": 17,
   "id": "0deb2b36",
   "metadata": {},
   "outputs": [
    {
     "name": "stdout",
     "output_type": "stream",
     "text": [
      "20\n",
      "30\n",
      "18\n",
      "27\n",
      "[27, 19]\n"
     ]
    }
   ],
   "source": [
    "for elemento in idades:\n",
    "    print(elemento)"
   ]
  },
  {
   "cell_type": "code",
   "execution_count": 18,
   "id": "5163b713",
   "metadata": {},
   "outputs": [
    {
     "data": {
      "text/plain": [
       "[20, 30, 18, 27, [27, 19], 64, 46, 34]"
      ]
     },
     "execution_count": 18,
     "metadata": {},
     "output_type": "execute_result"
    }
   ],
   "source": [
    "# Ao invés disso podemos fazer o seguinte, utilizar o extend que pega do iterável e faz o append de todos os itens.\n",
    "idades.extend([64,46,34])\n",
    "idades"
   ]
  },
  {
   "cell_type": "code",
   "execution_count": 19,
   "id": "86bed8d9",
   "metadata": {},
   "outputs": [],
   "source": [
    "idades.remove([27,19])"
   ]
  },
  {
   "cell_type": "code",
   "execution_count": 20,
   "id": "53367564",
   "metadata": {},
   "outputs": [
    {
     "data": {
      "text/plain": [
       "[21, 31, 19, 28, 65, 47, 35]"
      ]
     },
     "execution_count": 20,
     "metadata": {},
     "output_type": "execute_result"
    }
   ],
   "source": [
    "idades_no_ano_que_vem = []\n",
    "for idade in idades:\n",
    "    idades_no_ano_que_vem.append(idade+1)\n",
    "idades_no_ano_que_vem"
   ]
  },
  {
   "cell_type": "code",
   "execution_count": 21,
   "id": "1da0aaed",
   "metadata": {},
   "outputs": [
    {
     "data": {
      "text/plain": [
       "[21, 31, 19, 28, 65, 47, 35]"
      ]
     },
     "execution_count": 21,
     "metadata": {},
     "output_type": "execute_result"
    }
   ],
   "source": [
    "#Outra forma de fazer isso, de forma mais compacta:\n",
    "idades_no_ano_que_vem2 = [(idade+1) for idade in idades]\n",
    "idades_no_ano_que_vem2\n",
    "\n",
    "#Pensar que é uma lista pois está em volta de colchetes, e o valor de cada um é idade +1 para cada idade em idades."
   ]
  },
  {
   "cell_type": "code",
   "execution_count": 22,
   "id": "0123e56f",
   "metadata": {},
   "outputs": [
    {
     "data": {
      "text/plain": [
       "[64, 46, 34]"
      ]
     },
     "execution_count": 22,
     "metadata": {},
     "output_type": "execute_result"
    }
   ],
   "source": [
    "#também podemos fazer filtragens nesse modelo compacto.\n",
    "idades_no_ano_que_vem3 = [(idade)for idade in idades if idade > 30]\n",
    "idades_no_ano_que_vem3"
   ]
  },
  {
   "cell_type": "code",
   "execution_count": 23,
   "id": "5ff2027d",
   "metadata": {},
   "outputs": [
    {
     "data": {
      "text/plain": [
       "[65, 47, 35]"
      ]
     },
     "execution_count": 23,
     "metadata": {},
     "output_type": "execute_result"
    }
   ],
   "source": [
    "# e podemos fazer junto de funções ao mesmo tempo!\n",
    "def proximo_ano(idade):\n",
    "    return idade+1\n",
    "idades_no_ano_que_vem4 = [proximo_ano(idade)for idade in idades if idade > 30]\n",
    "idades_no_ano_que_vem4"
   ]
  },
  {
   "cell_type": "markdown",
   "id": "eac3b884",
   "metadata": {},
   "source": [
    "## Problemas da mutabilidade da lista:\n"
   ]
  },
  {
   "cell_type": "code",
   "execution_count": 24,
   "id": "13984a6c",
   "metadata": {},
   "outputs": [],
   "source": [
    "# qualquer pessoa que altera a função futuramente pode mudar algo na lista.\n",
    "def faz_processamento_de_visualizacao(lista):\n",
    "    print(len(lista))\n",
    "    return None"
   ]
  },
  {
   "cell_type": "code",
   "execution_count": 25,
   "id": "d78829fe",
   "metadata": {},
   "outputs": [
    {
     "name": "stdout",
     "output_type": "stream",
     "text": [
      "6\n"
     ]
    },
    {
     "data": {
      "text/plain": [
       "[1, 2, 3, 4, 5, 6]"
      ]
     },
     "execution_count": 25,
     "metadata": {},
     "output_type": "execute_result"
    }
   ],
   "source": [
    "idades = [1,2,3,4,5,6]\n",
    "faz_processamento_de_visualizacao(idades)\n",
    "idades"
   ]
  },
  {
   "cell_type": "code",
   "execution_count": 26,
   "id": "8528c003",
   "metadata": {},
   "outputs": [],
   "source": [
    "# Uma brincadeira sobre referenciação:\n",
    "def faz_processamento_de_visualizacao(lista = []):\n",
    "    print(len(lista))\n",
    "    print(lista)\n",
    "    lista.append(12)\n",
    "    return None\n",
    "\n",
    "#Inicialmente quando só temos isso, implica em ter um parâmetro opcional que se \n",
    "# não chamado nada, só terá seu tamanho imprimido e terá o número 13 colocado no final da lista."
   ]
  },
  {
   "cell_type": "code",
   "execution_count": 27,
   "id": "d1220e38",
   "metadata": {},
   "outputs": [
    {
     "name": "stdout",
     "output_type": "stream",
     "text": [
      "0\n",
      "[]\n"
     ]
    }
   ],
   "source": [
    "faz_processamento_de_visualizacao()"
   ]
  },
  {
   "cell_type": "code",
   "execution_count": 28,
   "id": "fe548211",
   "metadata": {},
   "outputs": [
    {
     "name": "stdout",
     "output_type": "stream",
     "text": [
      "1\n",
      "[12]\n"
     ]
    }
   ],
   "source": [
    "faz_processamento_de_visualizacao()"
   ]
  },
  {
   "cell_type": "code",
   "execution_count": 29,
   "id": "dc314db0",
   "metadata": {},
   "outputs": [
    {
     "name": "stdout",
     "output_type": "stream",
     "text": [
      "2\n",
      "[12, 12]\n"
     ]
    }
   ],
   "source": [
    "#Note que mudou!, o que deveria ser o parametro iniciando como \n",
    "# uma lista vazia está sendo referenciado novamente quando foi chamado de novo pelo função!\n",
    "# E isso continuará acontecendo caso continuarmos a chamar, ela vai continuar sendo referenciada, essa mesma lista:\n",
    "faz_processamento_de_visualizacao()"
   ]
  },
  {
   "cell_type": "code",
   "execution_count": 30,
   "id": "7d9c2c91",
   "metadata": {},
   "outputs": [],
   "source": [
    "# a boa prática para isso é não colocar uma lista como opcional, nem list(), seria colocar None com um if:\n",
    "def faz_processamento_de_visualizacao(lista = None):\n",
    "    if lista == None:\n",
    "        lista = list()\n",
    "    print(len(lista))\n",
    "    print(lista)\n",
    "    lista.append(12)\n",
    "    return None"
   ]
  },
  {
   "cell_type": "code",
   "execution_count": 31,
   "id": "49bc017b",
   "metadata": {},
   "outputs": [
    {
     "name": "stdout",
     "output_type": "stream",
     "text": [
      "0\n",
      "[]\n",
      "0\n",
      "[]\n",
      "0\n",
      "[]\n"
     ]
    }
   ],
   "source": [
    "faz_processamento_de_visualizacao()\n",
    "faz_processamento_de_visualizacao()\n",
    "faz_processamento_de_visualizacao()"
   ]
  },
  {
   "cell_type": "code",
   "execution_count": 32,
   "id": "45a5337e",
   "metadata": {},
   "outputs": [],
   "source": [
    "#agora sim"
   ]
  },
  {
   "cell_type": "markdown",
   "id": "d589774c",
   "metadata": {},
   "source": [
    "### Parei de copiar a matéria e agora acompanho pelo material do github!!!!"
   ]
  }
 ],
 "metadata": {
  "kernelspec": {
   "display_name": "Python 3 (ipykernel)",
   "language": "python",
   "name": "python3"
  },
  "language_info": {
   "codemirror_mode": {
    "name": "ipython",
    "version": 3
   },
   "file_extension": ".py",
   "mimetype": "text/x-python",
   "name": "python",
   "nbconvert_exporter": "python",
   "pygments_lexer": "ipython3",
   "version": "3.8.10"
  }
 },
 "nbformat": 4,
 "nbformat_minor": 5
}
